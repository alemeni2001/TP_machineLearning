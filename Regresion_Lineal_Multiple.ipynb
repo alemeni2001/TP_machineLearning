{
 "cells": [
  {
   "cell_type": "markdown",
   "metadata": {},
   "source": [
    "# Regresión lineal Múltiple"
   ]
  },
  {
   "cell_type": "markdown",
   "metadata": {},
   "source": [
    "Tenemos un dataset que posee distintos datos compilados de distintos corredores. Con variables como la \"edad\", \"genero\", \"tiempo\" y de donde proviene \"home\". Utilizando esos datos compilados, podremos poder llegar a predecir la velocidad de cada corredores si este es veloz, regular o lento todo esto utilizando el metodo de regresion lineal multiple."
   ]
  },
  {
   "cell_type": "markdown",
   "metadata": {},
   "source": [
    "Para comenzar, importaremos todas las librerias la cual utilizaremos para llevar a cabo la prediccion"
   ]
  },
  {
   "cell_type": "code",
   "execution_count": 265,
   "metadata": {},
   "outputs": [],
   "source": [
    "import pandas as pd\n",
    "import matplotlib.pyplot as plt\n",
    "import numpy as np \n",
    "import seaborn as sns\n",
    "from sklearn.model_selection import train_test_split\n",
    "from sklearn.linear_model import LinearRegression\n",
    "from sklearn import metrics"
   ]
  },
  {
   "cell_type": "markdown",
   "metadata": {},
   "source": [
    "Luego con la funcion de pandas importaremos el archivo con las categorias de los corredores, y para observar su contenido ejecutaremos la funcion head(), la cual nos mostrara por pantalla los primeros datos de nuestro dataset"
   ]
  },
  {
   "cell_type": "code",
   "execution_count": 266,
   "metadata": {},
   "outputs": [
    {
     "data": {
      "text/html": [
       "<div>\n",
       "<style scoped>\n",
       "    .dataframe tbody tr th:only-of-type {\n",
       "        vertical-align: middle;\n",
       "    }\n",
       "\n",
       "    .dataframe tbody tr th {\n",
       "        vertical-align: top;\n",
       "    }\n",
       "\n",
       "    .dataframe thead th {\n",
       "        text-align: right;\n",
       "    }\n",
       "</style>\n",
       "<table border=\"1\" class=\"dataframe\">\n",
       "  <thead>\n",
       "    <tr style=\"text-align: right;\">\n",
       "      <th></th>\n",
       "      <th>place</th>\n",
       "      <th>gender</th>\n",
       "      <th>age</th>\n",
       "      <th>home</th>\n",
       "      <th>time</th>\n",
       "      <th>Velocidad</th>\n",
       "    </tr>\n",
       "  </thead>\n",
       "  <tbody>\n",
       "    <tr>\n",
       "      <th>3475</th>\n",
       "      <td>3592</td>\n",
       "      <td>Male</td>\n",
       "      <td>52</td>\n",
       "      <td>GBR</td>\n",
       "      <td>217.483333</td>\n",
       "      <td>Regular</td>\n",
       "    </tr>\n",
       "    <tr>\n",
       "      <th>13594</th>\n",
       "      <td>13853</td>\n",
       "      <td>Female</td>\n",
       "      <td>40</td>\n",
       "      <td>NY</td>\n",
       "      <td>272.550000</td>\n",
       "      <td>Regular</td>\n",
       "    </tr>\n",
       "    <tr>\n",
       "      <th>12012</th>\n",
       "      <td>12256</td>\n",
       "      <td>Male</td>\n",
       "      <td>31</td>\n",
       "      <td>FRA</td>\n",
       "      <td>265.283333</td>\n",
       "      <td>Regular</td>\n",
       "    </tr>\n",
       "    <tr>\n",
       "      <th>10236</th>\n",
       "      <td>10457</td>\n",
       "      <td>Female</td>\n",
       "      <td>33</td>\n",
       "      <td>MI</td>\n",
       "      <td>256.150000</td>\n",
       "      <td>Regular</td>\n",
       "    </tr>\n",
       "    <tr>\n",
       "      <th>9476</th>\n",
       "      <td>9686</td>\n",
       "      <td>Male</td>\n",
       "      <td>33</td>\n",
       "      <td>NY</td>\n",
       "      <td>252.250000</td>\n",
       "      <td>Regular</td>\n",
       "    </tr>\n",
       "  </tbody>\n",
       "</table>\n",
       "</div>"
      ],
      "text/plain": [
       "       place  gender  age home        time Velocidad\n",
       "3475    3592    Male   52  GBR  217.483333   Regular\n",
       "13594  13853  Female   40   NY  272.550000   Regular\n",
       "12012  12256    Male   31  FRA  265.283333   Regular\n",
       "10236  10457  Female   33   MI  256.150000   Regular\n",
       "9476    9686    Male   33   NY  252.250000   Regular"
      ]
     },
     "execution_count": 266,
     "metadata": {},
     "output_type": "execute_result"
    }
   ],
   "source": [
    "df = pd.read_csv(\"categorías de corredores.csv\", index_col=0)\n",
    "df.head()"
   ]
  },
  {
   "cell_type": "markdown",
   "metadata": {},
   "source": [
    "Una vez mostrado, se decide organizar el dataframe segun la columna place y ademas reorganizar el index"
   ]
  },
  {
   "cell_type": "code",
   "execution_count": 267,
   "metadata": {},
   "outputs": [],
   "source": [
    "df= df.sort_values(\"place\")\n",
    "#Deseo resetear los valores del index para que no queden mal\n",
    "df= df.reset_index(drop=True)"
   ]
  },
  {
   "cell_type": "markdown",
   "metadata": {},
   "source": [
    "Se muestra el dataframe con las implementaciones"
   ]
  },
  {
   "cell_type": "code",
   "execution_count": 268,
   "metadata": {},
   "outputs": [
    {
     "data": {
      "text/html": [
       "<div>\n",
       "<style scoped>\n",
       "    .dataframe tbody tr th:only-of-type {\n",
       "        vertical-align: middle;\n",
       "    }\n",
       "\n",
       "    .dataframe tbody tr th {\n",
       "        vertical-align: top;\n",
       "    }\n",
       "\n",
       "    .dataframe thead th {\n",
       "        text-align: right;\n",
       "    }\n",
       "</style>\n",
       "<table border=\"1\" class=\"dataframe\">\n",
       "  <thead>\n",
       "    <tr style=\"text-align: right;\">\n",
       "      <th></th>\n",
       "      <th>place</th>\n",
       "      <th>gender</th>\n",
       "      <th>age</th>\n",
       "      <th>home</th>\n",
       "      <th>time</th>\n",
       "      <th>Velocidad</th>\n",
       "    </tr>\n",
       "  </thead>\n",
       "  <tbody>\n",
       "    <tr>\n",
       "      <th>0</th>\n",
       "      <td>54</td>\n",
       "      <td>Male</td>\n",
       "      <td>37</td>\n",
       "      <td>AK</td>\n",
       "      <td>147.333333</td>\n",
       "      <td>Veloz</td>\n",
       "    </tr>\n",
       "    <tr>\n",
       "      <th>1</th>\n",
       "      <td>104</td>\n",
       "      <td>Male</td>\n",
       "      <td>27</td>\n",
       "      <td>NJ</td>\n",
       "      <td>156.000000</td>\n",
       "      <td>Veloz</td>\n",
       "    </tr>\n",
       "    <tr>\n",
       "      <th>2</th>\n",
       "      <td>116</td>\n",
       "      <td>Male</td>\n",
       "      <td>43</td>\n",
       "      <td>CO</td>\n",
       "      <td>157.583333</td>\n",
       "      <td>Veloz</td>\n",
       "    </tr>\n",
       "    <tr>\n",
       "      <th>3</th>\n",
       "      <td>200</td>\n",
       "      <td>Male</td>\n",
       "      <td>40</td>\n",
       "      <td>GER</td>\n",
       "      <td>163.933333</td>\n",
       "      <td>Veloz</td>\n",
       "    </tr>\n",
       "    <tr>\n",
       "      <th>4</th>\n",
       "      <td>213</td>\n",
       "      <td>Male</td>\n",
       "      <td>35</td>\n",
       "      <td>VA</td>\n",
       "      <td>164.500000</td>\n",
       "      <td>Veloz</td>\n",
       "    </tr>\n",
       "    <tr>\n",
       "      <th>...</th>\n",
       "      <td>...</td>\n",
       "      <td>...</td>\n",
       "      <td>...</td>\n",
       "      <td>...</td>\n",
       "      <td>...</td>\n",
       "      <td>...</td>\n",
       "    </tr>\n",
       "    <tr>\n",
       "      <th>995</th>\n",
       "      <td>23627</td>\n",
       "      <td>Male</td>\n",
       "      <td>45</td>\n",
       "      <td>GBR</td>\n",
       "      <td>478.016667</td>\n",
       "      <td>Lento</td>\n",
       "    </tr>\n",
       "    <tr>\n",
       "      <th>996</th>\n",
       "      <td>23641</td>\n",
       "      <td>Male</td>\n",
       "      <td>40</td>\n",
       "      <td>IRL</td>\n",
       "      <td>491.566667</td>\n",
       "      <td>Lento</td>\n",
       "    </tr>\n",
       "    <tr>\n",
       "      <th>997</th>\n",
       "      <td>23645</td>\n",
       "      <td>Female</td>\n",
       "      <td>46</td>\n",
       "      <td>NY</td>\n",
       "      <td>501.550000</td>\n",
       "      <td>Lento</td>\n",
       "    </tr>\n",
       "    <tr>\n",
       "      <th>998</th>\n",
       "      <td>23654</td>\n",
       "      <td>Male</td>\n",
       "      <td>69</td>\n",
       "      <td>NY</td>\n",
       "      <td>508.083333</td>\n",
       "      <td>Lento</td>\n",
       "    </tr>\n",
       "    <tr>\n",
       "      <th>999</th>\n",
       "      <td>23662</td>\n",
       "      <td>Female</td>\n",
       "      <td>69</td>\n",
       "      <td>NY</td>\n",
       "      <td>566.783333</td>\n",
       "      <td>Lento</td>\n",
       "    </tr>\n",
       "  </tbody>\n",
       "</table>\n",
       "<p>1000 rows × 6 columns</p>\n",
       "</div>"
      ],
      "text/plain": [
       "     place  gender  age home        time Velocidad\n",
       "0       54    Male   37   AK  147.333333     Veloz\n",
       "1      104    Male   27   NJ  156.000000     Veloz\n",
       "2      116    Male   43   CO  157.583333     Veloz\n",
       "3      200    Male   40  GER  163.933333     Veloz\n",
       "4      213    Male   35   VA  164.500000     Veloz\n",
       "..     ...     ...  ...  ...         ...       ...\n",
       "995  23627    Male   45  GBR  478.016667     Lento\n",
       "996  23641    Male   40  IRL  491.566667     Lento\n",
       "997  23645  Female   46   NY  501.550000     Lento\n",
       "998  23654    Male   69   NY  508.083333     Lento\n",
       "999  23662  Female   69   NY  566.783333     Lento\n",
       "\n",
       "[1000 rows x 6 columns]"
      ]
     },
     "execution_count": 268,
     "metadata": {},
     "output_type": "execute_result"
    }
   ],
   "source": [
    "df"
   ]
  },
  {
   "cell_type": "markdown",
   "metadata": {},
   "source": [
    "Se crea una funcion la cual muestra algunos datos del dataframe"
   ]
  },
  {
   "cell_type": "code",
   "execution_count": 269,
   "metadata": {},
   "outputs": [],
   "source": [
    "def stats(dataSet):\n",
    "    return(f\"\"\"\n",
    "Maximo de tiempo: {dataSet[\"time\"].max()}\"\n",
    "Minimo de tiempo  {dataSet[\"time\"].min()}\\n\n",
    "Promedio de tiempo: {dataSet[\"time\"].mean()}\n",
    "Maximo de edad: {dataSet[\"age\"].max()}\n",
    "Minimo de edad: {dataSet[\"age\"].min()}\n",
    "Promedio de edades: {dataSet[\"age\"].mean()}\n",
    "\"\"\")"
   ]
  },
  {
   "cell_type": "code",
   "execution_count": 270,
   "metadata": {},
   "outputs": [
    {
     "data": {
      "text/plain": [
       "'\\nMaximo de tiempo: 566.7833333\"\\nMinimo de tiempo  147.3333333\\n\\nPromedio de tiempo: 268.57070000050004\\nMaximo de edad: 81\\nMinimo de edad: 5\\nPromedio de edades: 39.1\\n'"
      ]
     },
     "execution_count": 270,
     "metadata": {},
     "output_type": "execute_result"
    }
   ],
   "source": [
    "stats(df)"
   ]
  },
  {
   "cell_type": "markdown",
   "metadata": {},
   "source": [
    "Tomando en cuenta que no se necesita la columna \"place\" para realizar el metodo , se decide tomar la desicion de eliminar dicha columna "
   ]
  },
  {
   "cell_type": "code",
   "execution_count": 271,
   "metadata": {},
   "outputs": [],
   "source": [
    "del(df['place'])"
   ]
  },
  {
   "cell_type": "markdown",
   "metadata": {},
   "source": [
    "Se muestra el dataset luego de la eliminacion de la columna"
   ]
  },
  {
   "cell_type": "code",
   "execution_count": 272,
   "metadata": {},
   "outputs": [
    {
     "data": {
      "text/html": [
       "<div>\n",
       "<style scoped>\n",
       "    .dataframe tbody tr th:only-of-type {\n",
       "        vertical-align: middle;\n",
       "    }\n",
       "\n",
       "    .dataframe tbody tr th {\n",
       "        vertical-align: top;\n",
       "    }\n",
       "\n",
       "    .dataframe thead th {\n",
       "        text-align: right;\n",
       "    }\n",
       "</style>\n",
       "<table border=\"1\" class=\"dataframe\">\n",
       "  <thead>\n",
       "    <tr style=\"text-align: right;\">\n",
       "      <th></th>\n",
       "      <th>gender</th>\n",
       "      <th>age</th>\n",
       "      <th>home</th>\n",
       "      <th>time</th>\n",
       "      <th>Velocidad</th>\n",
       "    </tr>\n",
       "  </thead>\n",
       "  <tbody>\n",
       "    <tr>\n",
       "      <th>0</th>\n",
       "      <td>Male</td>\n",
       "      <td>37</td>\n",
       "      <td>AK</td>\n",
       "      <td>147.333333</td>\n",
       "      <td>Veloz</td>\n",
       "    </tr>\n",
       "    <tr>\n",
       "      <th>1</th>\n",
       "      <td>Male</td>\n",
       "      <td>27</td>\n",
       "      <td>NJ</td>\n",
       "      <td>156.000000</td>\n",
       "      <td>Veloz</td>\n",
       "    </tr>\n",
       "    <tr>\n",
       "      <th>2</th>\n",
       "      <td>Male</td>\n",
       "      <td>43</td>\n",
       "      <td>CO</td>\n",
       "      <td>157.583333</td>\n",
       "      <td>Veloz</td>\n",
       "    </tr>\n",
       "    <tr>\n",
       "      <th>3</th>\n",
       "      <td>Male</td>\n",
       "      <td>40</td>\n",
       "      <td>GER</td>\n",
       "      <td>163.933333</td>\n",
       "      <td>Veloz</td>\n",
       "    </tr>\n",
       "    <tr>\n",
       "      <th>4</th>\n",
       "      <td>Male</td>\n",
       "      <td>35</td>\n",
       "      <td>VA</td>\n",
       "      <td>164.500000</td>\n",
       "      <td>Veloz</td>\n",
       "    </tr>\n",
       "    <tr>\n",
       "      <th>...</th>\n",
       "      <td>...</td>\n",
       "      <td>...</td>\n",
       "      <td>...</td>\n",
       "      <td>...</td>\n",
       "      <td>...</td>\n",
       "    </tr>\n",
       "    <tr>\n",
       "      <th>995</th>\n",
       "      <td>Male</td>\n",
       "      <td>45</td>\n",
       "      <td>GBR</td>\n",
       "      <td>478.016667</td>\n",
       "      <td>Lento</td>\n",
       "    </tr>\n",
       "    <tr>\n",
       "      <th>996</th>\n",
       "      <td>Male</td>\n",
       "      <td>40</td>\n",
       "      <td>IRL</td>\n",
       "      <td>491.566667</td>\n",
       "      <td>Lento</td>\n",
       "    </tr>\n",
       "    <tr>\n",
       "      <th>997</th>\n",
       "      <td>Female</td>\n",
       "      <td>46</td>\n",
       "      <td>NY</td>\n",
       "      <td>501.550000</td>\n",
       "      <td>Lento</td>\n",
       "    </tr>\n",
       "    <tr>\n",
       "      <th>998</th>\n",
       "      <td>Male</td>\n",
       "      <td>69</td>\n",
       "      <td>NY</td>\n",
       "      <td>508.083333</td>\n",
       "      <td>Lento</td>\n",
       "    </tr>\n",
       "    <tr>\n",
       "      <th>999</th>\n",
       "      <td>Female</td>\n",
       "      <td>69</td>\n",
       "      <td>NY</td>\n",
       "      <td>566.783333</td>\n",
       "      <td>Lento</td>\n",
       "    </tr>\n",
       "  </tbody>\n",
       "</table>\n",
       "<p>1000 rows × 5 columns</p>\n",
       "</div>"
      ],
      "text/plain": [
       "     gender  age home        time Velocidad\n",
       "0      Male   37   AK  147.333333     Veloz\n",
       "1      Male   27   NJ  156.000000     Veloz\n",
       "2      Male   43   CO  157.583333     Veloz\n",
       "3      Male   40  GER  163.933333     Veloz\n",
       "4      Male   35   VA  164.500000     Veloz\n",
       "..      ...  ...  ...         ...       ...\n",
       "995    Male   45  GBR  478.016667     Lento\n",
       "996    Male   40  IRL  491.566667     Lento\n",
       "997  Female   46   NY  501.550000     Lento\n",
       "998    Male   69   NY  508.083333     Lento\n",
       "999  Female   69   NY  566.783333     Lento\n",
       "\n",
       "[1000 rows x 5 columns]"
      ]
     },
     "execution_count": 272,
     "metadata": {},
     "output_type": "execute_result"
    }
   ],
   "source": [
    "df"
   ]
  },
  {
   "cell_type": "markdown",
   "metadata": {},
   "source": [
    "Luego se trata de analizar el dataset en busca de datos \"nan\", estos de alguna manera se tienen que llenar de alguna manera, ya que puede entorpecer al algoritmo."
   ]
  },
  {
   "cell_type": "code",
   "execution_count": 273,
   "metadata": {},
   "outputs": [
    {
     "data": {
      "text/plain": [
       "home    1\n",
       "dtype: int64"
      ]
     },
     "execution_count": 273,
     "metadata": {},
     "output_type": "execute_result"
    }
   ],
   "source": [
    "nulls = pd.isnull(df)\n",
    "nulls = nulls.sum()\n",
    "nulls = nulls[nulls > 0]\n",
    "\n",
    "nulls"
   ]
  },
  {
   "cell_type": "markdown",
   "metadata": {},
   "source": [
    "Como se puede observar en la columna \"home\" tenemos un nan el cual tendremos que reemplazar, para esto se utiliza la funcion fillna, la cual pasamos por parametro el metodo a utilizar "
   ]
  },
  {
   "cell_type": "code",
   "execution_count": 274,
   "metadata": {},
   "outputs": [],
   "source": [
    "df=df.fillna(method='ffill')"
   ]
  },
  {
   "cell_type": "markdown",
   "metadata": {},
   "source": [
    "Ahora se procede a comprobar nuevamente si hay valores nulos en nuestro dataset. Para eso aplicaremos la funcion isnull()."
   ]
  },
  {
   "cell_type": "code",
   "execution_count": 275,
   "metadata": {},
   "outputs": [
    {
     "data": {
      "text/plain": [
       "gender       False\n",
       "age          False\n",
       "home         False\n",
       "time         False\n",
       "Velocidad    False\n",
       "dtype: bool"
      ]
     },
     "execution_count": 275,
     "metadata": {},
     "output_type": "execute_result"
    }
   ],
   "source": [
    "df.isnull().any()"
   ]
  },
  {
   "cell_type": "markdown",
   "metadata": {},
   "source": [
    "Luego se procede a selecionar cual va a ser nuestra variable dependiente en este caso, queremos predecir la columna \"Velocidad\", por ende esa sera la que selecionemos. Las demas columna de datos , seran tomadas como variables independientes. Para eos se crean funciones "
   ]
  },
  {
   "cell_type": "code",
   "execution_count": 276,
   "metadata": {},
   "outputs": [],
   "source": [
    "def independentVar():\n",
    "    return df.iloc[:,0:4].values"
   ]
  },
  {
   "cell_type": "code",
   "execution_count": 277,
   "metadata": {},
   "outputs": [],
   "source": [
    "def dependentVar():\n",
    "    return df.iloc[:,-1].values"
   ]
  },
  {
   "cell_type": "markdown",
   "metadata": {},
   "source": [
    "A continuacion se utilizan las funciones en las variables x e y. Para que finalmente, se muestre por pantalla el contenido de ambas variables"
   ]
  },
  {
   "cell_type": "code",
   "execution_count": 278,
   "metadata": {},
   "outputs": [],
   "source": [
    "x = independentVar()\n",
    "y = dependentVar()"
   ]
  },
  {
   "cell_type": "code",
   "execution_count": 279,
   "metadata": {},
   "outputs": [
    {
     "data": {
      "text/plain": [
       "array([['Male', 37, 'AK', 147.3333333],\n",
       "       ['Male', 27, 'NJ', 156.0],\n",
       "       ['Male', 43, 'CO', 157.5833333],\n",
       "       ...,\n",
       "       ['Female', 46, 'NY', 501.55],\n",
       "       ['Male', 69, 'NY', 508.0833333],\n",
       "       ['Female', 69, 'NY', 566.7833333]], dtype=object)"
      ]
     },
     "execution_count": 279,
     "metadata": {},
     "output_type": "execute_result"
    }
   ],
   "source": [
    "x"
   ]
  },
  {
   "cell_type": "code",
   "execution_count": 280,
   "metadata": {},
   "outputs": [
    {
     "data": {
      "text/plain": [
       "array(['Veloz', 'Veloz', 'Veloz', 'Veloz', 'Veloz', 'Veloz', 'Veloz',\n",
       "       'Veloz', 'Veloz', 'Veloz', 'Veloz', 'Veloz', 'Veloz', 'Veloz',\n",
       "       'Veloz', 'Veloz', 'Veloz', 'Veloz', 'Veloz', 'Veloz', 'Veloz',\n",
       "       'Veloz', 'Veloz', 'Veloz', 'Veloz', 'Veloz', 'Veloz', 'Veloz',\n",
       "       'Veloz', 'Veloz', 'Veloz', 'Veloz', 'Veloz', 'Veloz', 'Veloz',\n",
       "       'Veloz', 'Veloz', 'Veloz', 'Veloz', 'Veloz', 'Veloz', 'Veloz',\n",
       "       'Veloz', 'Veloz', 'Veloz', 'Veloz', 'Veloz', 'Veloz', 'Veloz',\n",
       "       'Veloz', 'Veloz', 'Veloz', 'Veloz', 'Veloz', 'Veloz', 'Veloz',\n",
       "       'Veloz', 'Veloz', 'Veloz', 'Veloz', 'Veloz', 'Veloz', 'Veloz',\n",
       "       'Veloz', 'Veloz', 'Veloz', 'Veloz', 'Veloz', 'Regular', 'Regular',\n",
       "       'Regular', 'Regular', 'Regular', 'Regular', 'Regular', 'Regular',\n",
       "       'Regular', 'Regular', 'Regular', 'Regular', 'Regular', 'Regular',\n",
       "       'Regular', 'Regular', 'Regular', 'Regular', 'Regular', 'Regular',\n",
       "       'Regular', 'Regular', 'Regular', 'Regular', 'Regular', 'Regular',\n",
       "       'Regular', 'Regular', 'Regular', 'Regular', 'Regular', 'Regular',\n",
       "       'Regular', 'Regular', 'Regular', 'Regular', 'Regular', 'Regular',\n",
       "       'Regular', 'Regular', 'Regular', 'Regular', 'Regular', 'Regular',\n",
       "       'Regular', 'Regular', 'Regular', 'Regular', 'Regular', 'Regular',\n",
       "       'Regular', 'Regular', 'Regular', 'Regular', 'Regular', 'Regular',\n",
       "       'Regular', 'Regular', 'Regular', 'Regular', 'Regular', 'Regular',\n",
       "       'Regular', 'Regular', 'Regular', 'Regular', 'Regular', 'Regular',\n",
       "       'Regular', 'Regular', 'Regular', 'Regular', 'Regular', 'Regular',\n",
       "       'Regular', 'Regular', 'Regular', 'Regular', 'Regular', 'Regular',\n",
       "       'Regular', 'Regular', 'Regular', 'Regular', 'Regular', 'Regular',\n",
       "       'Regular', 'Regular', 'Regular', 'Regular', 'Regular', 'Regular',\n",
       "       'Regular', 'Regular', 'Regular', 'Regular', 'Regular', 'Regular',\n",
       "       'Regular', 'Regular', 'Regular', 'Regular', 'Regular', 'Regular',\n",
       "       'Regular', 'Regular', 'Regular', 'Regular', 'Regular', 'Regular',\n",
       "       'Regular', 'Regular', 'Regular', 'Regular', 'Regular', 'Regular',\n",
       "       'Regular', 'Regular', 'Regular', 'Regular', 'Regular', 'Regular',\n",
       "       'Regular', 'Regular', 'Regular', 'Regular', 'Regular', 'Regular',\n",
       "       'Regular', 'Regular', 'Regular', 'Regular', 'Regular', 'Regular',\n",
       "       'Regular', 'Regular', 'Regular', 'Regular', 'Regular', 'Regular',\n",
       "       'Regular', 'Regular', 'Regular', 'Regular', 'Regular', 'Regular',\n",
       "       'Regular', 'Regular', 'Regular', 'Regular', 'Regular', 'Regular',\n",
       "       'Regular', 'Regular', 'Regular', 'Regular', 'Regular', 'Regular',\n",
       "       'Regular', 'Regular', 'Regular', 'Regular', 'Regular', 'Regular',\n",
       "       'Regular', 'Regular', 'Regular', 'Regular', 'Regular', 'Regular',\n",
       "       'Regular', 'Regular', 'Regular', 'Regular', 'Regular', 'Regular',\n",
       "       'Regular', 'Regular', 'Regular', 'Regular', 'Regular', 'Regular',\n",
       "       'Regular', 'Regular', 'Regular', 'Regular', 'Regular', 'Regular',\n",
       "       'Regular', 'Regular', 'Regular', 'Regular', 'Regular', 'Regular',\n",
       "       'Regular', 'Regular', 'Regular', 'Regular', 'Regular', 'Regular',\n",
       "       'Regular', 'Regular', 'Regular', 'Regular', 'Regular', 'Regular',\n",
       "       'Regular', 'Regular', 'Regular', 'Regular', 'Regular', 'Regular',\n",
       "       'Regular', 'Regular', 'Regular', 'Regular', 'Regular', 'Regular',\n",
       "       'Regular', 'Regular', 'Regular', 'Regular', 'Regular', 'Regular',\n",
       "       'Regular', 'Regular', 'Regular', 'Regular', 'Regular', 'Regular',\n",
       "       'Regular', 'Regular', 'Regular', 'Regular', 'Regular', 'Regular',\n",
       "       'Regular', 'Regular', 'Regular', 'Regular', 'Regular', 'Regular',\n",
       "       'Regular', 'Regular', 'Regular', 'Regular', 'Regular', 'Regular',\n",
       "       'Regular', 'Regular', 'Regular', 'Regular', 'Regular', 'Regular',\n",
       "       'Regular', 'Regular', 'Regular', 'Regular', 'Regular', 'Regular',\n",
       "       'Regular', 'Regular', 'Regular', 'Regular', 'Regular', 'Regular',\n",
       "       'Regular', 'Regular', 'Regular', 'Regular', 'Regular', 'Regular',\n",
       "       'Regular', 'Regular', 'Regular', 'Regular', 'Regular', 'Regular',\n",
       "       'Regular', 'Regular', 'Regular', 'Regular', 'Regular', 'Regular',\n",
       "       'Regular', 'Regular', 'Regular', 'Regular', 'Regular', 'Regular',\n",
       "       'Regular', 'Regular', 'Regular', 'Regular', 'Regular', 'Regular',\n",
       "       'Regular', 'Regular', 'Regular', 'Regular', 'Regular', 'Regular',\n",
       "       'Regular', 'Regular', 'Regular', 'Regular', 'Regular', 'Regular',\n",
       "       'Regular', 'Regular', 'Regular', 'Regular', 'Regular', 'Regular',\n",
       "       'Regular', 'Regular', 'Regular', 'Regular', 'Regular', 'Regular',\n",
       "       'Regular', 'Regular', 'Regular', 'Regular', 'Regular', 'Regular',\n",
       "       'Regular', 'Regular', 'Regular', 'Regular', 'Regular', 'Regular',\n",
       "       'Regular', 'Regular', 'Regular', 'Regular', 'Regular', 'Regular',\n",
       "       'Regular', 'Regular', 'Regular', 'Regular', 'Regular', 'Regular',\n",
       "       'Regular', 'Regular', 'Regular', 'Regular', 'Regular', 'Regular',\n",
       "       'Regular', 'Regular', 'Regular', 'Regular', 'Regular', 'Regular',\n",
       "       'Regular', 'Regular', 'Regular', 'Regular', 'Regular', 'Regular',\n",
       "       'Regular', 'Regular', 'Regular', 'Regular', 'Regular', 'Regular',\n",
       "       'Regular', 'Regular', 'Regular', 'Regular', 'Regular', 'Regular',\n",
       "       'Regular', 'Regular', 'Regular', 'Regular', 'Regular', 'Regular',\n",
       "       'Regular', 'Regular', 'Regular', 'Regular', 'Regular', 'Regular',\n",
       "       'Regular', 'Regular', 'Regular', 'Regular', 'Regular', 'Regular',\n",
       "       'Regular', 'Regular', 'Regular', 'Regular', 'Regular', 'Regular',\n",
       "       'Regular', 'Regular', 'Regular', 'Regular', 'Regular', 'Regular',\n",
       "       'Regular', 'Regular', 'Regular', 'Regular', 'Regular', 'Regular',\n",
       "       'Regular', 'Regular', 'Regular', 'Regular', 'Regular', 'Regular',\n",
       "       'Regular', 'Regular', 'Regular', 'Regular', 'Regular', 'Regular',\n",
       "       'Regular', 'Regular', 'Regular', 'Regular', 'Regular', 'Regular',\n",
       "       'Regular', 'Regular', 'Regular', 'Regular', 'Regular', 'Regular',\n",
       "       'Regular', 'Regular', 'Regular', 'Regular', 'Regular', 'Regular',\n",
       "       'Regular', 'Regular', 'Regular', 'Regular', 'Regular', 'Regular',\n",
       "       'Regular', 'Regular', 'Regular', 'Regular', 'Regular', 'Regular',\n",
       "       'Regular', 'Regular', 'Regular', 'Regular', 'Regular', 'Regular',\n",
       "       'Regular', 'Regular', 'Regular', 'Regular', 'Regular', 'Regular',\n",
       "       'Regular', 'Regular', 'Regular', 'Regular', 'Regular', 'Regular',\n",
       "       'Regular', 'Regular', 'Regular', 'Regular', 'Regular', 'Regular',\n",
       "       'Regular', 'Regular', 'Regular', 'Regular', 'Regular', 'Regular',\n",
       "       'Regular', 'Regular', 'Regular', 'Regular', 'Regular', 'Regular',\n",
       "       'Regular', 'Regular', 'Regular', 'Regular', 'Regular', 'Regular',\n",
       "       'Regular', 'Regular', 'Regular', 'Regular', 'Regular', 'Regular',\n",
       "       'Regular', 'Regular', 'Regular', 'Regular', 'Regular', 'Regular',\n",
       "       'Regular', 'Regular', 'Regular', 'Regular', 'Regular', 'Regular',\n",
       "       'Regular', 'Regular', 'Regular', 'Regular', 'Regular', 'Regular',\n",
       "       'Regular', 'Regular', 'Regular', 'Regular', 'Regular', 'Regular',\n",
       "       'Regular', 'Regular', 'Regular', 'Regular', 'Regular', 'Regular',\n",
       "       'Regular', 'Regular', 'Regular', 'Regular', 'Regular', 'Regular',\n",
       "       'Regular', 'Regular', 'Regular', 'Regular', 'Regular', 'Regular',\n",
       "       'Regular', 'Regular', 'Regular', 'Regular', 'Regular', 'Regular',\n",
       "       'Regular', 'Regular', 'Regular', 'Regular', 'Regular', 'Regular',\n",
       "       'Regular', 'Regular', 'Regular', 'Regular', 'Regular', 'Regular',\n",
       "       'Regular', 'Regular', 'Regular', 'Regular', 'Regular', 'Regular',\n",
       "       'Regular', 'Regular', 'Regular', 'Regular', 'Regular', 'Regular',\n",
       "       'Regular', 'Regular', 'Regular', 'Regular', 'Regular', 'Regular',\n",
       "       'Regular', 'Regular', 'Regular', 'Regular', 'Regular', 'Regular',\n",
       "       'Regular', 'Regular', 'Regular', 'Regular', 'Regular', 'Regular',\n",
       "       'Regular', 'Regular', 'Regular', 'Regular', 'Regular', 'Regular',\n",
       "       'Regular', 'Regular', 'Regular', 'Regular', 'Regular', 'Regular',\n",
       "       'Regular', 'Regular', 'Regular', 'Regular', 'Regular', 'Regular',\n",
       "       'Regular', 'Regular', 'Regular', 'Regular', 'Regular', 'Regular',\n",
       "       'Regular', 'Regular', 'Regular', 'Regular', 'Regular', 'Regular',\n",
       "       'Regular', 'Regular', 'Regular', 'Regular', 'Regular', 'Regular',\n",
       "       'Regular', 'Regular', 'Regular', 'Regular', 'Regular', 'Regular',\n",
       "       'Regular', 'Regular', 'Regular', 'Regular', 'Regular', 'Regular',\n",
       "       'Regular', 'Regular', 'Regular', 'Regular', 'Regular', 'Regular',\n",
       "       'Regular', 'Regular', 'Regular', 'Regular', 'Regular', 'Regular',\n",
       "       'Regular', 'Regular', 'Regular', 'Regular', 'Regular', 'Regular',\n",
       "       'Regular', 'Regular', 'Regular', 'Regular', 'Regular', 'Regular',\n",
       "       'Regular', 'Regular', 'Regular', 'Regular', 'Regular', 'Regular',\n",
       "       'Regular', 'Regular', 'Regular', 'Regular', 'Regular', 'Regular',\n",
       "       'Regular', 'Regular', 'Regular', 'Regular', 'Regular', 'Regular',\n",
       "       'Regular', 'Regular', 'Regular', 'Regular', 'Regular', 'Regular',\n",
       "       'Regular', 'Regular', 'Regular', 'Regular', 'Regular', 'Regular',\n",
       "       'Regular', 'Regular', 'Regular', 'Regular', 'Regular', 'Regular',\n",
       "       'Regular', 'Regular', 'Regular', 'Regular', 'Regular', 'Regular',\n",
       "       'Regular', 'Regular', 'Regular', 'Regular', 'Regular', 'Regular',\n",
       "       'Regular', 'Lento', 'Regular', 'Lento', 'Lento', 'Regular',\n",
       "       'Regular', 'Lento', 'Regular', 'Lento', 'Lento', 'Regular',\n",
       "       'Lento', 'Regular', 'Lento', 'Lento', 'Lento', 'Lento', 'Lento',\n",
       "       'Regular', 'Lento', 'Lento', 'Lento', 'Lento', 'Lento', 'Lento',\n",
       "       'Regular', 'Lento', 'Lento', 'Lento', 'Lento', 'Lento', 'Lento',\n",
       "       'Lento', 'Lento', 'Lento', 'Lento', 'Lento', 'Lento', 'Lento',\n",
       "       'Lento', 'Lento', 'Lento', 'Lento', 'Lento', 'Lento', 'Lento',\n",
       "       'Lento', 'Lento', 'Lento', 'Lento', 'Lento', 'Lento', 'Lento',\n",
       "       'Lento', 'Lento', 'Lento', 'Lento', 'Lento', 'Lento', 'Lento',\n",
       "       'Lento', 'Lento', 'Lento', 'Lento', 'Lento', 'Lento', 'Lento',\n",
       "       'Lento', 'Lento', 'Lento', 'Lento', 'Lento', 'Lento', 'Lento',\n",
       "       'Lento', 'Lento', 'Lento', 'Lento', 'Lento', 'Lento', 'Lento',\n",
       "       'Lento', 'Lento', 'Lento', 'Lento', 'Lento', 'Lento', 'Lento',\n",
       "       'Lento', 'Lento', 'Lento', 'Lento', 'Lento', 'Lento', 'Lento',\n",
       "       'Lento', 'Lento', 'Lento', 'Lento', 'Lento', 'Lento', 'Lento',\n",
       "       'Lento', 'Lento', 'Lento', 'Lento', 'Lento', 'Lento', 'Lento',\n",
       "       'Lento', 'Lento', 'Lento', 'Lento', 'Lento', 'Lento', 'Lento',\n",
       "       'Lento', 'Lento', 'Lento', 'Lento', 'Lento', 'Lento', 'Lento',\n",
       "       'Lento', 'Lento', 'Lento', 'Lento', 'Lento', 'Lento', 'Lento',\n",
       "       'Lento', 'Lento', 'Lento', 'Lento', 'Lento', 'Lento', 'Lento',\n",
       "       'Lento', 'Lento', 'Lento', 'Lento', 'Lento', 'Lento', 'Lento',\n",
       "       'Lento', 'Lento', 'Lento', 'Lento', 'Lento', 'Lento', 'Lento',\n",
       "       'Lento', 'Lento', 'Lento', 'Lento', 'Lento', 'Lento', 'Lento',\n",
       "       'Lento', 'Lento', 'Lento', 'Lento', 'Lento', 'Lento', 'Lento',\n",
       "       'Lento', 'Lento', 'Lento', 'Lento', 'Lento', 'Lento', 'Lento',\n",
       "       'Lento', 'Lento', 'Lento', 'Lento', 'Lento', 'Lento', 'Lento',\n",
       "       'Lento', 'Lento', 'Lento', 'Lento', 'Lento', 'Lento', 'Lento',\n",
       "       'Lento', 'Lento', 'Lento', 'Lento', 'Lento', 'Lento', 'Lento',\n",
       "       'Lento', 'Lento', 'Lento', 'Lento', 'Lento', 'Lento', 'Lento',\n",
       "       'Lento', 'Lento', 'Lento', 'Lento', 'Lento', 'Lento', 'Lento',\n",
       "       'Lento', 'Lento', 'Lento', 'Lento', 'Lento', 'Lento', 'Lento',\n",
       "       'Lento', 'Lento', 'Lento', 'Lento', 'Lento', 'Lento', 'Lento'],\n",
       "      dtype=object)"
      ]
     },
     "execution_count": 280,
     "metadata": {},
     "output_type": "execute_result"
    }
   ],
   "source": [
    "y\n"
   ]
  },
  {
   "cell_type": "code",
   "execution_count": 281,
   "metadata": {},
   "outputs": [
    {
     "data": {
      "text/plain": [
       "Text(0.5, 0, 'Calificacion segun el parametro velocidad')"
      ]
     },
     "execution_count": 281,
     "metadata": {},
     "output_type": "execute_result"
    },
    {
     "data": {
      "image/png": "[encoded data removed]",
      "text/plain": [
       "<Figure size 800x600 with 1 Axes>"
      ]
     },
     "metadata": {},
     "output_type": "display_data"
    }
   ],
   "source": [
    "fig, ax1 = plt.subplots(figsize=(8,6))\n",
    "ax1.hist(df.Velocidad,align='left',alpha=0.5)\n",
    "ax1.set_xlabel('Calificacion segun el parametro velocidad')"
   ]
  },
  {
   "cell_type": "markdown",
   "metadata": {},
   "source": [
    "Como podemos observar en estre grafico una amplia mayoria de las personas en nuestro dataSet pertenecen a la categoria Regular. Luego, los demas, a la categoria Lento y finalmente la menor cantidad es las personas que son categotizadas como Veloces. "
   ]
  },
  {
   "cell_type": "markdown",
   "metadata": {},
   "source": [
    "Para poder incluir todos estos datos no numericos y que nuestro algoritmo lo utilize para mejorar su efectividad. Se utiliza la funcion creada transform, la cual le paso por parametro el el array de la variables independientes y a estas las transforma. Estas variables, se conocen como variables \"dummy\". LLamaeremos a la funcion pasandole por parametro la variable x y luego lo mostramos por pantalla, para notar el cambio."
   ]
  },
  {
   "cell_type": "code",
   "execution_count": 282,
   "metadata": {},
   "outputs": [],
   "source": [
    "from sklearn.preprocessing import LabelEncoder\n",
    "\n",
    "def transform(array_dataSet):\n",
    "    labelencoder_x = LabelEncoder()\n",
    "    \n",
    "    for i in range(array_dataSet.shape[1]-1):    \n",
    "        array_dataSet[:,i] = labelencoder_x.fit_transform(array_dataSet[:,i])"
   ]
  },
  {
   "cell_type": "code",
   "execution_count": 283,
   "metadata": {},
   "outputs": [],
   "source": [
    "transform(x)\n"
   ]
  },
  {
   "cell_type": "code",
   "execution_count": 284,
   "metadata": {},
   "outputs": [
    {
     "data": {
      "text/plain": [
       "array([[1, 19, 0, 147.3333333],\n",
       "       [1, 9, 47, 156.0],\n",
       "       [1, 25, 12, 157.5833333],\n",
       "       ...,\n",
       "       [0, 28, 50, 501.55],\n",
       "       [1, 50, 50, 508.0833333],\n",
       "       [0, 50, 50, 566.7833333]], dtype=object)"
      ]
     },
     "execution_count": 284,
     "metadata": {},
     "output_type": "execute_result"
    }
   ],
   "source": [
    "x"
   ]
  },
  {
   "cell_type": "markdown",
   "metadata": {},
   "source": [
    "Lo mismo lo haremos con nuestra variable dependiente la cual realizaremos el mismo procedimiento."
   ]
  },
  {
   "cell_type": "code",
   "execution_count": 285,
   "metadata": {},
   "outputs": [
    {
     "data": {
      "text/plain": [
       "array([2, 2, 2, 2, 2, 2, 2, 2, 2, 2, 2, 2, 2, 2, 2, 2, 2, 2, 2, 2, 2, 2,\n",
       "       2, 2, 2, 2, 2, 2, 2, 2, 2, 2, 2, 2, 2, 2, 2, 2, 2, 2, 2, 2, 2, 2,\n",
       "       2, 2, 2, 2, 2, 2, 2, 2, 2, 2, 2, 2, 2, 2, 2, 2, 2, 2, 2, 2, 2, 2,\n",
       "       2, 2, 1, 1, 1, 1, 1, 1, 1, 1, 1, 1, 1, 1, 1, 1, 1, 1, 1, 1, 1, 1,\n",
       "       1, 1, 1, 1, 1, 1, 1, 1, 1, 1, 1, 1, 1, 1, 1, 1, 1, 1, 1, 1, 1, 1,\n",
       "       1, 1, 1, 1, 1, 1, 1, 1, 1, 1, 1, 1, 1, 1, 1, 1, 1, 1, 1, 1, 1, 1,\n",
       "       1, 1, 1, 1, 1, 1, 1, 1, 1, 1, 1, 1, 1, 1, 1, 1, 1, 1, 1, 1, 1, 1,\n",
       "       1, 1, 1, 1, 1, 1, 1, 1, 1, 1, 1, 1, 1, 1, 1, 1, 1, 1, 1, 1, 1, 1,\n",
       "       1, 1, 1, 1, 1, 1, 1, 1, 1, 1, 1, 1, 1, 1, 1, 1, 1, 1, 1, 1, 1, 1,\n",
       "       1, 1, 1, 1, 1, 1, 1, 1, 1, 1, 1, 1, 1, 1, 1, 1, 1, 1, 1, 1, 1, 1,\n",
       "       1, 1, 1, 1, 1, 1, 1, 1, 1, 1, 1, 1, 1, 1, 1, 1, 1, 1, 1, 1, 1, 1,\n",
       "       1, 1, 1, 1, 1, 1, 1, 1, 1, 1, 1, 1, 1, 1, 1, 1, 1, 1, 1, 1, 1, 1,\n",
       "       1, 1, 1, 1, 1, 1, 1, 1, 1, 1, 1, 1, 1, 1, 1, 1, 1, 1, 1, 1, 1, 1,\n",
       "       1, 1, 1, 1, 1, 1, 1, 1, 1, 1, 1, 1, 1, 1, 1, 1, 1, 1, 1, 1, 1, 1,\n",
       "       1, 1, 1, 1, 1, 1, 1, 1, 1, 1, 1, 1, 1, 1, 1, 1, 1, 1, 1, 1, 1, 1,\n",
       "       1, 1, 1, 1, 1, 1, 1, 1, 1, 1, 1, 1, 1, 1, 1, 1, 1, 1, 1, 1, 1, 1,\n",
       "       1, 1, 1, 1, 1, 1, 1, 1, 1, 1, 1, 1, 1, 1, 1, 1, 1, 1, 1, 1, 1, 1,\n",
       "       1, 1, 1, 1, 1, 1, 1, 1, 1, 1, 1, 1, 1, 1, 1, 1, 1, 1, 1, 1, 1, 1,\n",
       "       1, 1, 1, 1, 1, 1, 1, 1, 1, 1, 1, 1, 1, 1, 1, 1, 1, 1, 1, 1, 1, 1,\n",
       "       1, 1, 1, 1, 1, 1, 1, 1, 1, 1, 1, 1, 1, 1, 1, 1, 1, 1, 1, 1, 1, 1,\n",
       "       1, 1, 1, 1, 1, 1, 1, 1, 1, 1, 1, 1, 1, 1, 1, 1, 1, 1, 1, 1, 1, 1,\n",
       "       1, 1, 1, 1, 1, 1, 1, 1, 1, 1, 1, 1, 1, 1, 1, 1, 1, 1, 1, 1, 1, 1,\n",
       "       1, 1, 1, 1, 1, 1, 1, 1, 1, 1, 1, 1, 1, 1, 1, 1, 1, 1, 1, 1, 1, 1,\n",
       "       1, 1, 1, 1, 1, 1, 1, 1, 1, 1, 1, 1, 1, 1, 1, 1, 1, 1, 1, 1, 1, 1,\n",
       "       1, 1, 1, 1, 1, 1, 1, 1, 1, 1, 1, 1, 1, 1, 1, 1, 1, 1, 1, 1, 1, 1,\n",
       "       1, 1, 1, 1, 1, 1, 1, 1, 1, 1, 1, 1, 1, 1, 1, 1, 1, 1, 1, 1, 1, 1,\n",
       "       1, 1, 1, 1, 1, 1, 1, 1, 1, 1, 1, 1, 1, 1, 1, 1, 1, 1, 1, 1, 1, 1,\n",
       "       1, 1, 1, 1, 1, 1, 1, 1, 1, 1, 1, 1, 1, 1, 1, 1, 1, 1, 1, 1, 1, 1,\n",
       "       1, 1, 1, 1, 1, 1, 1, 1, 1, 1, 1, 1, 1, 1, 1, 1, 1, 1, 1, 1, 1, 1,\n",
       "       1, 1, 1, 1, 1, 1, 1, 1, 1, 1, 1, 1, 1, 1, 1, 1, 1, 1, 1, 1, 1, 1,\n",
       "       1, 1, 1, 1, 1, 1, 1, 1, 1, 1, 1, 1, 1, 1, 1, 1, 1, 1, 1, 1, 1, 1,\n",
       "       1, 1, 1, 1, 1, 1, 1, 1, 1, 1, 1, 1, 1, 1, 1, 1, 1, 1, 1, 1, 1, 1,\n",
       "       1, 1, 1, 1, 1, 1, 1, 1, 1, 1, 1, 1, 1, 1, 1, 1, 1, 1, 1, 1, 1, 1,\n",
       "       1, 1, 1, 1, 1, 1, 1, 1, 1, 1, 1, 1, 1, 1, 1, 1, 1, 1, 1, 1, 1, 1,\n",
       "       1, 1, 1, 1, 1, 1, 1, 1, 1, 1, 1, 1, 1, 1, 1, 1, 1, 1, 1, 1, 1, 1,\n",
       "       1, 1, 1, 1, 1, 1, 1, 1, 1, 0, 1, 0, 0, 1, 1, 0, 1, 0, 0, 1, 0, 1,\n",
       "       0, 0, 0, 0, 0, 1, 0, 0, 0, 0, 0, 0, 1, 0, 0, 0, 0, 0, 0, 0, 0, 0,\n",
       "       0, 0, 0, 0, 0, 0, 0, 0, 0, 0, 0, 0, 0, 0, 0, 0, 0, 0, 0, 0, 0, 0,\n",
       "       0, 0, 0, 0, 0, 0, 0, 0, 0, 0, 0, 0, 0, 0, 0, 0, 0, 0, 0, 0, 0, 0,\n",
       "       0, 0, 0, 0, 0, 0, 0, 0, 0, 0, 0, 0, 0, 0, 0, 0, 0, 0, 0, 0, 0, 0,\n",
       "       0, 0, 0, 0, 0, 0, 0, 0, 0, 0, 0, 0, 0, 0, 0, 0, 0, 0, 0, 0, 0, 0,\n",
       "       0, 0, 0, 0, 0, 0, 0, 0, 0, 0, 0, 0, 0, 0, 0, 0, 0, 0, 0, 0, 0, 0,\n",
       "       0, 0, 0, 0, 0, 0, 0, 0, 0, 0, 0, 0, 0, 0, 0, 0, 0, 0, 0, 0, 0, 0,\n",
       "       0, 0, 0, 0, 0, 0, 0, 0, 0, 0, 0, 0, 0, 0, 0, 0, 0, 0, 0, 0, 0, 0,\n",
       "       0, 0, 0, 0, 0, 0, 0, 0, 0, 0, 0, 0, 0, 0, 0, 0, 0, 0, 0, 0, 0, 0,\n",
       "       0, 0, 0, 0, 0, 0, 0, 0, 0, 0])"
      ]
     },
     "execution_count": 285,
     "metadata": {},
     "output_type": "execute_result"
    }
   ],
   "source": [
    "labelencoder_y = LabelEncoder()\n",
    "y = labelencoder_y.fit_transform(y)\n",
    "y\n"
   ]
  },
  {
   "cell_type": "markdown",
   "metadata": {},
   "source": [
    "A continuación, dividimos el 80% de los datos para el conjunto de entrenamiento y  el 20% de los datos al conjunto de pruebas usando el código de abajo. Cabe mencionar con la efectividad de nuestro algorimo puede ser alterada segun el porcentaje que decidamos darle para cada uno. "
   ]
  },
  {
   "cell_type": "code",
   "execution_count": 286,
   "metadata": {},
   "outputs": [],
   "source": [
    "x_train, x_test, y_train, y_test = train_test_split(x, y, test_size=0.2, random_state=0)"
   ]
  },
  {
   "cell_type": "code",
   "execution_count": 287,
   "metadata": {},
   "outputs": [
    {
     "data": {
      "text/plain": [
       "array([[0, 15, 45, 284.4],\n",
       "       [0, 12, 24, 262.35],\n",
       "       [1, 8, 23, 243.4666667],\n",
       "       ...,\n",
       "       [1, 35, 45, 277.6833333],\n",
       "       [0, 25, 9, 272.4],\n",
       "       [0, 15, 67, 287.4666667]], dtype=object)"
      ]
     },
     "execution_count": 287,
     "metadata": {},
     "output_type": "execute_result"
    }
   ],
   "source": [
    "x_train"
   ]
  },
  {
   "cell_type": "code",
   "execution_count": 288,
   "metadata": {},
   "outputs": [
    {
     "data": {
      "text/plain": [
       "array([[0, 40, 50, 467.1833333],\n",
       "       [1, 11, 50, 316.8166667],\n",
       "       [1, 15, 52, 239.0666667],\n",
       "       [0, 19, 28, 267.6333333],\n",
       "       [1, 6, 50, 284.3166667],\n",
       "       [1, 19, 47, 398.2666667],\n",
       "       [1, 26, 20, 180.7833333],\n",
       "       [1, 23, 10, 230.35],\n",
       "       [1, 22, 50, 239.1333333],\n",
       "       [1, 32, 9, 291.0],\n",
       "       [1, 23, 9, 262.3666667],\n",
       "       [1, 38, 8, 273.0666667],\n",
       "       [1, 22, 67, 298.3333333],\n",
       "       [0, 9, 50, 233.45],\n",
       "       [0, 42, 50, 274.65],\n",
       "       [1, 31, 45, 193.05],\n",
       "       [1, 19, 23, 332.8166667],\n",
       "       [1, 2, 20, 224.0166667],\n",
       "       [1, 15, 50, 175.3666667],\n",
       "       [1, 28, 20, 201.75],\n",
       "       [1, 23, 41, 182.7],\n",
       "       [1, 36, 45, 258.7166667],\n",
       "       [0, 15, 20, 242.5166667],\n",
       "       [1, 35, 47, 240.9],\n",
       "       [1, 28, 20, 325.6],\n",
       "       [1, 32, 56, 301.0],\n",
       "       [1, 19, 20, 189.6833333],\n",
       "       [1, 15, 47, 208.75],\n",
       "       [1, 15, 21, 296.45],\n",
       "       [1, 9, 47, 156.0],\n",
       "       [0, 33, 47, 312.2166667],\n",
       "       [1, 32, 47, 293.05],\n",
       "       [0, 13, 50, 277.0833333],\n",
       "       [0, 16, 46, 300.2666667],\n",
       "       [1, 36, 20, 251.4333333],\n",
       "       [0, 13, 14, 295.7166667],\n",
       "       [0, 12, 50, 370.2],\n",
       "       [0, 35, 2, 249.3833333],\n",
       "       [0, 24, 9, 341.7666667],\n",
       "       [1, 36, 23, 235.5333333],\n",
       "       [1, 18, 10, 230.3333333],\n",
       "       [1, 22, 29, 491.5666667],\n",
       "       [0, 12, 31, 279.8166667],\n",
       "       [1, 22, 63, 289.0666667],\n",
       "       [1, 4, 23, 233.3833333],\n",
       "       [0, 26, 20, 299.8],\n",
       "       [1, 22, 20, 305.05],\n",
       "       [1, 5, 14, 217.4333333],\n",
       "       [0, 5, 37, 241.5666667],\n",
       "       [0, 10, 50, 274.8833333],\n",
       "       [1, 12, 47, 244.05],\n",
       "       [0, 23, 50, 237.1833333],\n",
       "       [1, 20, 2, 230.75],\n",
       "       [0, 15, 41, 256.15],\n",
       "       [1, 9, 23, 321.55],\n",
       "       [1, 25, 30, 275.2666667],\n",
       "       [1, 15, 37, 236.2333333],\n",
       "       [1, 32, 45, 236.0166667],\n",
       "       [0, 14, 23, 434.1833333],\n",
       "       [1, 35, 30, 242.6333333],\n",
       "       [0, 15, 14, 273.0],\n",
       "       [0, 2, 9, 278.8],\n",
       "       [1, 15, 50, 219.7833333],\n",
       "       [1, 38, 20, 224.65],\n",
       "       [0, 16, 10, 252.3666667],\n",
       "       [1, 33, 37, 226.55],\n",
       "       [1, 17, 30, 235.8],\n",
       "       [1, 20, 50, 266.8333333],\n",
       "       [1, 14, 45, 233.95],\n",
       "       [0, 29, 24, 270.7],\n",
       "       [1, 13, 50, 293.9666667],\n",
       "       [1, 14, 9, 238.25],\n",
       "       [1, 18, 66, 292.4833333],\n",
       "       [0, 25, 14, 234.3166667],\n",
       "       [1, 15, 30, 339.6833333],\n",
       "       [1, 53, 26, 254.8333333],\n",
       "       [1, 30, 49, 251.8333333],\n",
       "       [1, 48, 24, 302.5166667],\n",
       "       [1, 13, 50, 276.95],\n",
       "       [1, 13, 50, 279.3166667],\n",
       "       [0, 9, 50, 235.9],\n",
       "       [1, 29, 12, 258.1166667],\n",
       "       [1, 4, 69, 250.7166667],\n",
       "       [1, 44, 19, 423.0166667],\n",
       "       [0, 15, 50, 332.3833333],\n",
       "       [0, 35, 29, 289.0166667],\n",
       "       [0, 12, 9, 230.7333333],\n",
       "       [1, 13, 21, 261.8333333],\n",
       "       [0, 10, 23, 261.2666667],\n",
       "       [1, 25, 50, 326.05],\n",
       "       [1, 9, 50, 259.2833333],\n",
       "       [1, 44, 30, 263.2],\n",
       "       [1, 32, 50, 339.9833333],\n",
       "       [0, 7, 50, 238.3333333],\n",
       "       [1, 13, 23, 279.0833333],\n",
       "       [1, 13, 50, 259.4333333],\n",
       "       [0, 9, 24, 270.05],\n",
       "       [1, 22, 23, 209.95],\n",
       "       [1, 25, 41, 247.95],\n",
       "       [1, 31, 30, 280.25],\n",
       "       [0, 12, 10, 301.4666667],\n",
       "       [1, 26, 14, 325.0],\n",
       "       [1, 22, 50, 197.8833333],\n",
       "       [0, 9, 50, 329.3333333],\n",
       "       [0, 15, 37, 240.0333333],\n",
       "       [0, 5, 50, 275.0333333],\n",
       "       [1, 2, 23, 284.0833333],\n",
       "       [0, 15, 50, 298.2333333],\n",
       "       [0, 23, 34, 371.9833333],\n",
       "       [1, 7, 50, 228.2833333],\n",
       "       [1, 22, 20, 206.2666667],\n",
       "       [1, 31, 30, 273.0333333],\n",
       "       [1, 37, 50, 258.6666667],\n",
       "       [1, 19, 30, 266.3833333],\n",
       "       [1, 22, 20, 234.65],\n",
       "       [1, 23, 50, 248.9],\n",
       "       [0, 4, 67, 268.5166667],\n",
       "       [1, 35, 45, 249.6833333],\n",
       "       [1, 14, 9, 257.8833333],\n",
       "       [0, 13, 50, 264.0833333],\n",
       "       [1, 24, 50, 299.9],\n",
       "       [1, 32, 23, 332.3],\n",
       "       [1, 10, 50, 215.1],\n",
       "       [0, 32, 10, 359.8666667],\n",
       "       [0, 17, 50, 194.95],\n",
       "       [0, 13, 44, 315.9666667],\n",
       "       [1, 30, 50, 248.3],\n",
       "       [1, 20, 50, 238.1666667],\n",
       "       [0, 16, 50, 350.25],\n",
       "       [0, 32, 23, 272.6666667],\n",
       "       [1, 13, 42, 259.6166667],\n",
       "       [0, 28, 50, 280.9],\n",
       "       [0, 29, 47, 272.5],\n",
       "       [1, 36, 53, 290.6166667],\n",
       "       [1, 14, 50, 293.0666667],\n",
       "       [1, 17, 23, 278.2166667],\n",
       "       [1, 39, 20, 240.4666667],\n",
       "       [1, 16, 50, 171.2833333],\n",
       "       [1, 19, 23, 265.7666667],\n",
       "       [1, 6, 50, 322.7666667],\n",
       "       [0, 4, 53, 209.0666667],\n",
       "       [1, 21, 23, 275.9166667],\n",
       "       [0, 30, 49, 265.4],\n",
       "       [1, 33, 47, 234.0166667],\n",
       "       [1, 24, 40, 238.25],\n",
       "       [1, 15, 50, 253.6166667],\n",
       "       [1, 26, 47, 251.3666667],\n",
       "       [0, 8, 50, 252.0666667],\n",
       "       [0, 18, 42, 193.3166667],\n",
       "       [1, 22, 27, 184.3],\n",
       "       [0, 4, 21, 237.25],\n",
       "       [1, 16, 1, 182.7666667],\n",
       "       [1, 15, 9, 250.15],\n",
       "       [1, 17, 45, 294.9166667],\n",
       "       [1, 36, 23, 411.1833333],\n",
       "       [0, 30, 29, 439.8333333],\n",
       "       [0, 4, 9, 258.7],\n",
       "       [0, 2, 40, 244.8833333],\n",
       "       [0, 13, 50, 317.3166667],\n",
       "       [1, 36, 18, 262.5833333],\n",
       "       [1, 33, 47, 268.0833333],\n",
       "       [1, 55, 50, 430.8166667],\n",
       "       [1, 15, 36, 287.5333333],\n",
       "       [0, 26, 20, 321.4166667],\n",
       "       [0, 19, 45, 342.9333333],\n",
       "       [1, 16, 50, 247.95],\n",
       "       [1, 13, 67, 241.5666667],\n",
       "       [0, 24, 50, 353.1],\n",
       "       [1, 23, 69, 246.4333333],\n",
       "       [1, 40, 16, 254.2166667],\n",
       "       [1, 5, 23, 355.8666667],\n",
       "       [0, 14, 9, 300.0166667],\n",
       "       [1, 22, 62, 218.2333333],\n",
       "       [1, 25, 30, 311.5666667],\n",
       "       [0, 9, 50, 261.7],\n",
       "       [0, 27, 47, 293.85],\n",
       "       [1, 31, 30, 233.5666667],\n",
       "       [1, 30, 47, 280.3666667],\n",
       "       [1, 16, 47, 329.45],\n",
       "       [0, 12, 50, 219.5],\n",
       "       [1, 42, 24, 298.7666667],\n",
       "       [0, 50, 50, 566.7833333],\n",
       "       [1, 22, 20, 259.2333333],\n",
       "       [1, 12, 30, 242.2833333],\n",
       "       [1, 51, 30, 440.7666667],\n",
       "       [0, 17, 50, 344.1],\n",
       "       [0, 13, 12, 290.75],\n",
       "       [1, 23, 50, 253.75],\n",
       "       [0, 17, 37, 297.2],\n",
       "       [1, 26, 50, 227.2],\n",
       "       [1, 17, 50, 313.15],\n",
       "       [1, 16, 50, 315.75],\n",
       "       [1, 26, 50, 256.5833333],\n",
       "       [1, 15, 17, 165.5166667],\n",
       "       [1, 13, 39, 299.3],\n",
       "       [1, 43, 20, 285.8833333],\n",
       "       [0, 14, 50, 287.8666667],\n",
       "       [1, 23, 14, 228.1333333],\n",
       "       [1, 22, 50, 281.4],\n",
       "       [1, 32, 30, 217.0833333]], dtype=object)"
      ]
     },
     "execution_count": 288,
     "metadata": {},
     "output_type": "execute_result"
    }
   ],
   "source": [
    "x_test"
   ]
  },
  {
   "cell_type": "code",
   "execution_count": 289,
   "metadata": {},
   "outputs": [
    {
     "data": {
      "text/plain": [
       "array([0, 0, 1, 1, 1, 0, 2, 1, 1, 1, 1, 1, 1, 1, 1, 2, 0, 1, 2, 1, 2, 1,\n",
       "       1, 1, 0, 0, 2, 1, 1, 2, 0, 1, 1, 0, 1, 1, 0, 1, 0, 1, 1, 0, 1, 1,\n",
       "       1, 1, 0, 1, 1, 1, 1, 1, 1, 1, 0, 1, 1, 1, 0, 1, 1, 1, 1, 1, 1, 1,\n",
       "       1, 1, 1, 1, 1, 1, 1, 1, 0, 1, 1, 0, 1, 1, 1, 1, 1, 0, 0, 1, 1, 1,\n",
       "       1, 0, 1, 1, 0, 1, 1, 1, 1, 1, 1, 1, 0, 0, 2, 0, 1, 1, 1, 1, 0, 1,\n",
       "       1, 1, 1, 1, 1, 1, 1, 1, 1, 1, 1, 0, 1, 0, 2, 0, 1, 1, 0, 1, 1, 1,\n",
       "       1, 1, 1, 1, 1, 2, 1, 0, 1, 1, 1, 1, 1, 1, 1, 1, 2, 2, 1, 2, 1, 1,\n",
       "       0, 0, 1, 1, 0, 1, 1, 0, 1, 0, 0, 1, 1, 0, 1, 1, 0, 0, 1, 0, 1, 1,\n",
       "       1, 1, 0, 1, 1, 0, 1, 1, 0, 0, 1, 1, 1, 1, 0, 0, 1, 2, 1, 1, 1, 1,\n",
       "       1, 1])"
      ]
     },
     "execution_count": 289,
     "metadata": {},
     "output_type": "execute_result"
    }
   ],
   "source": [
    "y_test"
   ]
  },
  {
   "cell_type": "code",
   "execution_count": 290,
   "metadata": {},
   "outputs": [
    {
     "data": {
      "text/plain": [
       "array([1, 1, 1, 0, 0, 1, 0, 1, 1, 0, 1, 1, 2, 0, 0, 0, 1, 1, 2, 1, 0, 1,\n",
       "       0, 1, 1, 1, 1, 1, 2, 1, 1, 1, 1, 0, 2, 1, 1, 1, 1, 1, 1, 1, 1, 1,\n",
       "       0, 1, 1, 2, 1, 1, 1, 1, 1, 0, 1, 1, 1, 1, 0, 2, 0, 1, 1, 1, 0, 1,\n",
       "       1, 1, 1, 1, 1, 1, 2, 1, 1, 0, 0, 1, 1, 1, 0, 1, 1, 0, 1, 2, 0, 0,\n",
       "       1, 1, 1, 1, 1, 0, 1, 1, 0, 0, 1, 2, 1, 1, 1, 1, 1, 1, 0, 0, 1, 0,\n",
       "       0, 0, 1, 2, 0, 1, 1, 1, 1, 2, 1, 1, 0, 1, 1, 1, 2, 1, 1, 0, 0, 1,\n",
       "       2, 0, 2, 1, 1, 1, 1, 1, 0, 1, 1, 2, 1, 1, 1, 2, 1, 1, 1, 1, 1, 0,\n",
       "       0, 0, 1, 0, 0, 1, 1, 2, 1, 1, 1, 1, 0, 1, 1, 1, 0, 1, 1, 0, 1, 1,\n",
       "       1, 1, 1, 1, 1, 1, 1, 0, 1, 0, 1, 1, 2, 1, 1, 1, 1, 1, 2, 1, 1, 1,\n",
       "       0, 1, 1, 1, 1, 1, 1, 1, 1, 1, 1, 0, 0, 1, 1, 0, 1, 1, 1, 1, 1, 1,\n",
       "       1, 0, 1, 1, 1, 1, 0, 1, 1, 1, 0, 1, 2, 0, 1, 1, 1, 1, 0, 1, 1, 1,\n",
       "       0, 1, 1, 1, 1, 1, 1, 1, 1, 0, 1, 0, 1, 1, 0, 1, 1, 1, 0, 2, 1, 1,\n",
       "       0, 2, 1, 1, 1, 1, 0, 1, 1, 1, 1, 1, 1, 1, 2, 1, 1, 1, 1, 2, 1, 1,\n",
       "       1, 1, 1, 1, 1, 0, 0, 1, 1, 1, 1, 1, 1, 1, 1, 1, 1, 1, 1, 1, 1, 1,\n",
       "       1, 1, 1, 1, 1, 1, 1, 0, 1, 1, 1, 0, 1, 1, 1, 1, 2, 1, 1, 0, 1, 1,\n",
       "       1, 1, 1, 1, 1, 1, 1, 1, 1, 1, 0, 0, 1, 0, 1, 0, 2, 1, 1, 0, 0, 2,\n",
       "       1, 1, 0, 1, 0, 1, 0, 1, 0, 1, 1, 1, 1, 0, 0, 1, 2, 1, 1, 1, 1, 1,\n",
       "       1, 1, 1, 1, 1, 1, 2, 1, 0, 1, 0, 1, 1, 1, 1, 1, 1, 1, 0, 0, 0, 2,\n",
       "       1, 1, 1, 1, 1, 1, 1, 0, 1, 0, 1, 1, 1, 1, 1, 1, 2, 0, 0, 1, 0, 1,\n",
       "       1, 1, 1, 1, 0, 1, 1, 1, 1, 1, 1, 2, 0, 1, 1, 1, 0, 1, 1, 0, 0, 1,\n",
       "       0, 1, 1, 1, 1, 1, 1, 1, 0, 2, 1, 1, 1, 0, 1, 0, 0, 1, 1, 1, 1, 1,\n",
       "       1, 0, 1, 1, 2, 1, 0, 1, 1, 1, 1, 1, 0, 1, 1, 1, 1, 1, 0, 0, 1, 1,\n",
       "       1, 0, 1, 1, 0, 0, 1, 1, 1, 1, 1, 1, 1, 1, 0, 1, 1, 2, 1, 1, 0, 0,\n",
       "       1, 1, 1, 1, 1, 0, 0, 1, 1, 1, 1, 0, 1, 0, 1, 0, 0, 1, 1, 2, 1, 2,\n",
       "       1, 2, 0, 1, 1, 1, 1, 1, 1, 1, 1, 1, 1, 1, 0, 0, 0, 1, 1, 1, 0, 1,\n",
       "       1, 0, 1, 1, 1, 1, 1, 0, 0, 0, 1, 0, 1, 1, 0, 1, 1, 2, 2, 1, 1, 1,\n",
       "       1, 1, 1, 1, 1, 1, 1, 1, 0, 1, 0, 0, 1, 1, 1, 1, 1, 0, 1, 1, 1, 1,\n",
       "       1, 1, 1, 2, 1, 1, 1, 1, 1, 1, 1, 1, 1, 1, 1, 0, 1, 0, 1, 1, 1, 1,\n",
       "       2, 1, 1, 1, 1, 1, 1, 0, 1, 1, 1, 1, 0, 1, 1, 1, 0, 0, 1, 0, 0, 1,\n",
       "       2, 1, 1, 1, 2, 2, 1, 1, 2, 0, 2, 2, 0, 1, 1, 1, 1, 1, 1, 1, 1, 1,\n",
       "       1, 1, 1, 1, 2, 0, 1, 1, 1, 1, 1, 1, 1, 1, 1, 0, 0, 1, 1, 1, 1, 1,\n",
       "       1, 0, 0, 1, 1, 1, 1, 0, 1, 1, 1, 1, 1, 1, 0, 1, 0, 1, 0, 2, 1, 1,\n",
       "       1, 1, 1, 1, 1, 1, 0, 1, 1, 1, 0, 1, 0, 1, 2, 1, 1, 0, 0, 1, 2, 1,\n",
       "       1, 1, 1, 1, 1, 1, 0, 2, 0, 0, 1, 0, 2, 1, 0, 1, 1, 1, 1, 1, 1, 1,\n",
       "       1, 1, 1, 1, 1, 1, 0, 1, 1, 1, 0, 1, 1, 0, 1, 1, 0, 1, 1, 1, 0, 1,\n",
       "       1, 0, 1, 1, 0, 0, 1, 1, 1, 1, 1, 1, 1, 1, 1, 1, 1, 1, 1, 1, 1, 2,\n",
       "       1, 1, 1, 0, 1, 1, 1, 1])"
      ]
     },
     "execution_count": 290,
     "metadata": {},
     "output_type": "execute_result"
    }
   ],
   "source": [
    "y_train"
   ]
  },
  {
   "cell_type": "markdown",
   "metadata": {},
   "source": [
    "Luego se realiza la fase de \"entrenamiento\" de nuestro modelo con el metodo de regresion lineal, pasandole por parametro nuestras variables de entrenamiento"
   ]
  },
  {
   "cell_type": "code",
   "execution_count": 291,
   "metadata": {},
   "outputs": [
    {
     "data": {
      "text/html": [
       "<style>#sk-container-id-8 {color: black;background-color: white;}#sk-container-id-8 pre{padding: 0;}#sk-container-id-8 div.sk-toggleable {background-color: white;}#sk-container-id-8 label.sk-toggleable__label {cursor: pointer;display: block;width: 100%;margin-bottom: 0;padding: 0.3em;box-sizing: border-box;text-align: center;}#sk-container-id-8 label.sk-toggleable__label-arrow:before {content: \"▸\";float: left;margin-right: 0.25em;color: #696969;}#sk-container-id-8 label.sk-toggleable__label-arrow:hover:before {color: black;}#sk-container-id-8 div.sk-estimator:hover label.sk-toggleable__label-arrow:before {color: black;}#sk-container-id-8 div.sk-toggleable__content {max-height: 0;max-width: 0;overflow: hidden;text-align: left;background-color: #f0f8ff;}#sk-container-id-8 div.sk-toggleable__content pre {margin: 0.2em;color: black;border-radius: 0.25em;background-color: #f0f8ff;}#sk-container-id-8 input.sk-toggleable__control:checked~div.sk-toggleable__content {max-height: 200px;max-width: 100%;overflow: auto;}#sk-container-id-8 input.sk-toggleable__control:checked~label.sk-toggleable__label-arrow:before {content: \"▾\";}#sk-container-id-8 div.sk-estimator input.sk-toggleable__control:checked~label.sk-toggleable__label {background-color: #d4ebff;}#sk-container-id-8 div.sk-label input.sk-toggleable__control:checked~label.sk-toggleable__label {background-color: #d4ebff;}#sk-container-id-8 input.sk-hidden--visually {border: 0;clip: rect(1px 1px 1px 1px);clip: rect(1px, 1px, 1px, 1px);height: 1px;margin: -1px;overflow: hidden;padding: 0;position: absolute;width: 1px;}#sk-container-id-8 div.sk-estimator {font-family: monospace;background-color: #f0f8ff;border: 1px dotted black;border-radius: 0.25em;box-sizing: border-box;margin-bottom: 0.5em;}#sk-container-id-8 div.sk-estimator:hover {background-color: #d4ebff;}#sk-container-id-8 div.sk-parallel-item::after {content: \"\";width: 100%;border-bottom: 1px solid gray;flex-grow: 1;}#sk-container-id-8 div.sk-label:hover label.sk-toggleable__label {background-color: #d4ebff;}#sk-container-id-8 div.sk-serial::before {content: \"\";position: absolute;border-left: 1px solid gray;box-sizing: border-box;top: 0;bottom: 0;left: 50%;z-index: 0;}#sk-container-id-8 div.sk-serial {display: flex;flex-direction: column;align-items: center;background-color: white;padding-right: 0.2em;padding-left: 0.2em;position: relative;}#sk-container-id-8 div.sk-item {position: relative;z-index: 1;}#sk-container-id-8 div.sk-parallel {display: flex;align-items: stretch;justify-content: center;background-color: white;position: relative;}#sk-container-id-8 div.sk-item::before, #sk-container-id-8 div.sk-parallel-item::before {content: \"\";position: absolute;border-left: 1px solid gray;box-sizing: border-box;top: 0;bottom: 0;left: 50%;z-index: -1;}#sk-container-id-8 div.sk-parallel-item {display: flex;flex-direction: column;z-index: 1;position: relative;background-color: white;}#sk-container-id-8 div.sk-parallel-item:first-child::after {align-self: flex-end;width: 50%;}#sk-container-id-8 div.sk-parallel-item:last-child::after {align-self: flex-start;width: 50%;}#sk-container-id-8 div.sk-parallel-item:only-child::after {width: 0;}#sk-container-id-8 div.sk-dashed-wrapped {border: 1px dashed gray;margin: 0 0.4em 0.5em 0.4em;box-sizing: border-box;padding-bottom: 0.4em;background-color: white;}#sk-container-id-8 div.sk-label label {font-family: monospace;font-weight: bold;display: inline-block;line-height: 1.2em;}#sk-container-id-8 div.sk-label-container {text-align: center;}#sk-container-id-8 div.sk-container {/* jupyter's `normalize.less` sets `[hidden] { display: none; }` but bootstrap.min.css set `[hidden] { display: none !important; }` so we also need the `!important` here to be able to override the default hidden behavior on the sphinx rendered scikit-learn.org. See: https://github.com/scikit-learn/scikit-learn/issues/21755 */display: inline-block !important;position: relative;}#sk-container-id-8 div.sk-text-repr-fallback {display: none;}</style><div id=\"sk-container-id-8\" class=\"sk-top-container\"><div class=\"sk-text-repr-fallback\"><pre>LinearRegression()</pre><b>In a Jupyter environment, please rerun this cell to show the HTML representation or trust the notebook. <br />On GitHub, the HTML representation is unable to render, please try loading this page with nbviewer.org.</b></div><div class=\"sk-container\" hidden><div class=\"sk-item\"><div class=\"sk-estimator sk-toggleable\"><input class=\"sk-toggleable__control sk-hidden--visually\" id=\"sk-estimator-id-8\" type=\"checkbox\" checked><label for=\"sk-estimator-id-8\" class=\"sk-toggleable__label sk-toggleable__label-arrow\">LinearRegression</label><div class=\"sk-toggleable__content\"><pre>LinearRegression()</pre></div></div></div></div></div>"
      ],
      "text/plain": [
       "LinearRegression()"
      ]
     },
     "execution_count": 291,
     "metadata": {},
     "output_type": "execute_result"
    }
   ],
   "source": [
    "regressor = LinearRegression() \n",
    "regressor.fit(x_train, y_train)"
   ]
  },
  {
   "cell_type": "markdown",
   "metadata": {},
   "source": [
    "Realizaremos nuestra prediccion para poder comparar resultados, recibe por parametro la varibles independientes de entrenamiento"
   ]
  },
  {
   "cell_type": "code",
   "execution_count": 292,
   "metadata": {},
   "outputs": [],
   "source": [
    "y_pred = regressor.predict(x_test)"
   ]
  },
  {
   "cell_type": "markdown",
   "metadata": {},
   "source": [
    "Ahora mostraremos por pantalla los valores obtenidos para poder analizarlos"
   ]
  },
  {
   "cell_type": "code",
   "execution_count": 293,
   "metadata": {},
   "outputs": [
    {
     "name": "stdout",
     "output_type": "stream",
     "text": [
      "    Actual  Predicción\n",
      "0        0        -1.0\n",
      "1        0         0.0\n",
      "2        1         1.0\n",
      "3        1         1.0\n",
      "4        1         1.0\n",
      "5        0        -0.0\n",
      "6        2         2.0\n",
      "7        1         1.0\n",
      "8        1         1.0\n",
      "9        1         1.0\n",
      "10       1         1.0\n",
      "11       1         1.0\n",
      "12       1         1.0\n",
      "13       1         1.0\n",
      "14       1         1.0\n",
      "15       2         1.0\n",
      "16       0         0.0\n",
      "17       1         1.0\n",
      "18       2         2.0\n",
      "19       1         1.0\n",
      "20       2         2.0\n",
      "21       1         1.0\n",
      "22       1         1.0\n",
      "23       1         1.0\n",
      "24       0         0.0\n",
      "25       0         1.0\n",
      "26       2         1.0\n",
      "27       1         1.0\n",
      "28       1         1.0\n",
      "29       2         2.0\n"
     ]
    }
   ],
   "source": [
    "df_aux = pd.DataFrame({'Actual': y_test.flatten(), 'Predicción': y_pred.flatten()})\n",
    "print(round(df_aux.head(30)))"
   ]
  },
  {
   "cell_type": "markdown",
   "metadata": {},
   "source": [
    "Comprobaremos que segun los datos obtenidos nuestra prediccion se cumple la mayoria de las veces. Tambien se implemento un metodo de redondeo para asi poder llega a observar con mayor comodidad los resultados"
   ]
  },
  {
   "cell_type": "code",
   "execution_count": 294,
   "metadata": {},
   "outputs": [
    {
     "data": {
      "image/png": "[encoded data removed]",
      "text/plain": [
       "<Figure size 1000x800 with 1 Axes>"
      ]
     },
     "metadata": {},
     "output_type": "display_data"
    }
   ],
   "source": [
    "df_aux.round().head(30).plot(kind='bar',figsize=(10,8))\n",
    "plt.grid(which='major', linestyle='-', linewidth='0.5', color='black')\n",
    "plt.grid(which='minor', linestyle=':', linewidth='0.5', color='black')\n",
    "plt.show()"
   ]
  },
  {
   "cell_type": "markdown",
   "metadata": {},
   "source": [
    "De manera informativa y para saber datos de nuestro modelo y su rendimiento para comprobar su prediccion se ejecuta el siguiente codigos utilizando la libreria metrics"
   ]
  },
  {
   "cell_type": "code",
   "execution_count": 295,
   "metadata": {},
   "outputs": [
    {
     "name": "stdout",
     "output_type": "stream",
     "text": [
      "Error Absoluto Medio: 0.24330788568142064\n",
      "Error Cuadratico Medio: 0.09542816062237039\n",
      "Raíz del error cuadrático medio: 0.30891448755662204\n"
     ]
    }
   ],
   "source": [
    "print('Error Absoluto Medio:',metrics.mean_absolute_error(y_test, y_pred)) \n",
    "print('Error Cuadratico Medio:', metrics.mean_squared_error(y_test, y_pred)) \n",
    "print('Raíz del error cuadrático medio:', np.sqrt(metrics.mean_squared_error(y_test, y_pred)))"
   ]
  },
  {
   "cell_type": "markdown",
   "metadata": {},
   "source": [
    "# CONCLUSION"
   ]
  },
  {
   "cell_type": "markdown",
   "metadata": {},
   "source": [
    "Una vez analizado ambos metodos de regresion, se llego a la conclusion que si bien el modelo investigado utiliza distintos metodos para filtrar datos que mejoraran su efectividad y claramente hay una mejoria con respecto al metodo estudiado en clase. El metodo de regresion lineal multiple logro predecir valores max, a diferencia del otro que los desprecia. Lo cual en este caso se tomo como opcion, el metodo de regresion lineal como el mas apropiado, quizas con mayor tiempo e investigacion se logre solucionar el problema planteado, en ese caso, seria mucho mas adecuado el metodo investigado "
   ]
  }
 ],
 "metadata": {
  "kernelspec": {
   "display_name": "Python 3.10.7 64-bit",
   "language": "python",
   "name": "python3"
  },
  "language_info": {
   "codemirror_mode": {
    "name": "ipython",
    "version": 3
   },
   "file_extension": ".py",
   "mimetype": "text/x-python",
   "name": "python",
   "nbconvert_exporter": "python",
   "pygments_lexer": "ipython3",
   "version": "3.10.7"
  },
  "orig_nbformat": 4,
  "vscode": {
   "interpreter": {
    "hash": "beedbe2faf2f7048d727558d0bc3221e7eba2a0b921cac4d4771b2feb8f74b30"
   }
  }
 },
 "nbformat": 4,
 "nbformat_minor": 2
}
